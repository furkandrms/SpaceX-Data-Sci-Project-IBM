{
 "cells": [
  {
   "cell_type": "code",
   "execution_count": null,
   "metadata": {},
   "outputs": [],
   "source": [
    "!pip install ipython-sql\n"
   ]
  },
  {
   "cell_type": "code",
   "execution_count": null,
   "metadata": {},
   "outputs": [],
   "source": [
    "import psycopg2\n",
    "from sqlalchemy import create_engine\n",
    "from sqlalchemy import text"
   ]
  },
  {
   "cell_type": "code",
   "execution_count": null,
   "metadata": {},
   "outputs": [],
   "source": [
    "%load_ext sql"
   ]
  },
  {
   "cell_type": "code",
   "execution_count": null,
   "metadata": {},
   "outputs": [],
   "source": [
    "conn = psycopg2.connect(\n",
    "    dbname= #Your DB name,\n",
    "    user= #Your DB user,\n",
    "    password= #Your DB password,\n",
    "    host= #Your DB nahostme,\n",
    "    port= #Your DB port\n",
    ")\n",
    "\n",
    "cur = conn.cursor()\n",
    "cur.execute(\"SELECT version();\")\n",
    "print(cur.fetchone())\n",
    "cur.close()\n",
    "conn.close()\n"
   ]
  },
  {
   "cell_type": "code",
   "execution_count": null,
   "metadata": {},
   "outputs": [],
   "source": [
    "engine = create_engine(\"This are you can join this db connect engine URL\")\n",
    "\n",
    "with engine.connect() as conn:\n",
    "    result = conn.execute(text(\"SELECT version();\"))\n",
    "    print(result.fetchone())"
   ]
  },
  {
   "cell_type": "code",
   "execution_count": null,
   "metadata": {},
   "outputs": [],
   "source": [
    "import pandas as pd\n",
    "from sqlalchemy import create_engine\n",
    "\n",
    "df = pd.read_csv(\"https://cf-courses-data.s3.us.cloud-object-storage.appdomain.cloud/IBM-DS0321EN-SkillsNetwork/labs/module_2/data/Spacex.csv\")\n",
    "\n",
    "engine = create_engine(\"This are you can join this db connect engine URL\")\n",
    "\n",
    "df.to_sql(\"SPACEXTBL\", engine, if_exists=\"replace\", index=False, method=\"multi\")\n"
   ]
  },
  {
   "cell_type": "code",
   "execution_count": null,
   "metadata": {},
   "outputs": [],
   "source": [
    "%sql create table \"SPACEXTABLE\" as select * from \"SPACEXTBL\" where \"Date\" is not null\n"
   ]
  },
  {
   "cell_type": "code",
   "execution_count": null,
   "metadata": {},
   "outputs": [],
   "source": [
    "%sql SELECT * FROM \"SPACEXTABLE\" LIMIT 5;\n"
   ]
  },
  {
   "cell_type": "code",
   "execution_count": null,
   "metadata": {},
   "outputs": [],
   "source": [
    "%sql SELECT DISTINCT \"Launch_Site\" FROM \"SPACEXTABLE\""
   ]
  },
  {
   "cell_type": "code",
   "execution_count": null,
   "metadata": {},
   "outputs": [],
   "source": [
    "%sql SELECT * FROM \"SPACEXTABLE\" WHERE \"Launch_Site\" LIKE 'CCA%' LIMIT 5;"
   ]
  },
  {
   "cell_type": "code",
   "execution_count": null,
   "metadata": {},
   "outputs": [],
   "source": [
    "%sql SELECT SUM(\"PAYLOAD_MASS__KG_\") as total_payload_mass FROM \"SPACEXTABLE\" WHERE \"Customer\" LIKE '%NASA (CRS)%'; "
   ]
  },
  {
   "cell_type": "code",
   "execution_count": null,
   "metadata": {},
   "outputs": [],
   "source": [
    "%sql SELECT AVG(\"PAYLOAD_MASS__KG_\") as avg_payload_mass FROM \"SPACEXTABLE\" WHERE \"Booster_Version\" = 'F9 v1.1';  "
   ]
  },
  {
   "cell_type": "code",
   "execution_count": null,
   "metadata": {},
   "outputs": [],
   "source": [
    "%sql SELECT MIN(\"Date\") as first_success_launch_date FROM \"SPACEXTABLE\" WHERE \"Landing_Outcome\" LIKE 'Success (ground pad)';"
   ]
  },
  {
   "cell_type": "code",
   "execution_count": null,
   "metadata": {},
   "outputs": [],
   "source": [
    "%sql SELECT \"Booster_Version\" FROM \"SPACEXTABLE\" WHERE \"Landing_Outcome\" LIKE 'Success (drone ship)' AND \"PAYLOAD_MASS__KG_\" > 4000  AND \"PAYLOAD_MASS__KG_\" < 6000;"
   ]
  },
  {
   "cell_type": "code",
   "execution_count": null,
   "metadata": {},
   "outputs": [],
   "source": [
    "%sql SELECT \"Mission_Outcome\", COUNT(\"Mission_Outcome\") FROM \"SPACEXTABLE\" WHERE \"Mission_Outcome\" LIKE 'Success%' OR \"Mission_Outcome\" LIKE 'Failure%' GROUP BY \"Mission_Outcome\";\n"
   ]
  },
  {
   "cell_type": "code",
   "execution_count": null,
   "metadata": {},
   "outputs": [],
   "source": [
    "%sql SELECT \"Booster_Version\" FROM \"SPACEXTABLE\" WHERE \"PAYLOAD_MASS__KG_\" = (SELECT MAX(\"PAYLOAD_MASS__KG_\") FROM \"SPACEXTABLE\");"
   ]
  },
  {
   "cell_type": "code",
   "execution_count": null,
   "metadata": {},
   "outputs": [],
   "source": [
    "%sql SELECT EXTRACT(MONTH FROM CAST(\"Date\" AS DATE)) AS \"Month_Name\", \"Landing_Outcome\", \"Booster_Version\", \"Launch_Site\" FROM  \"SPACEXTABLE\" WHERE EXTRACT(YEAR FROM CAST(\"Date\" AS DATE)) = 2015 AND \"Landing_Outcome\" LIKE 'Failure (drone ship)%' ORDER BY \"Month_Name\";\n"
   ]
  },
  {
   "cell_type": "code",
   "execution_count": null,
   "metadata": {},
   "outputs": [],
   "source": [
    "%sql SELECT \"Landing_Outcome\", COUNT(\"Landing_Outcome\") AS count_outcome FROM \"SPACEXTABLE\" WHERE CAST(\"Date\" AS DATE) BETWEEN '2010-06-04' AND '2017-03-20' GROUP BY \"Landing_Outcome\" ORDER BY count_outcome DESC;\n"
   ]
  }
 ],
 "metadata": {
  "kernelspec": {
   "display_name": "Python 3",
   "language": "python",
   "name": "python3"
  },
  "language_info": {
   "codemirror_mode": {
    "name": "ipython",
    "version": 3
   },
   "file_extension": ".py",
   "mimetype": "text/x-python",
   "name": "python",
   "nbconvert_exporter": "python",
   "pygments_lexer": "ipython3",
   "version": "3.11.5"
  },
  "orig_nbformat": 4,
  "vscode": {
   "interpreter": {
    "hash": "b0fa6594d8f4cbf19f97940f81e996739fb7646882a419484c72d19e05852a7e"
   }
  }
 },
 "nbformat": 4,
 "nbformat_minor": 2
}
