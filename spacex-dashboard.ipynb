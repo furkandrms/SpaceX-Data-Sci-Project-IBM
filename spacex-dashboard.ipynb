{
 "cells": [
  {
   "cell_type": "code",
   "execution_count": null,
   "metadata": {},
   "outputs": [],
   "source": [
    "pip install folium"
   ]
  },
  {
   "cell_type": "code",
   "execution_count": null,
   "metadata": {},
   "outputs": [],
   "source": [
    "pip install dash"
   ]
  },
  {
   "cell_type": "code",
   "execution_count": null,
   "metadata": {},
   "outputs": [],
   "source": [
    "pip install wget"
   ]
  },
  {
   "cell_type": "code",
   "execution_count": null,
   "metadata": {},
   "outputs": [],
   "source": [
    "import folium \n",
    "import wget\n",
    "import pandas as pd \n",
    "\n",
    "from folium.plugins import MarkerCluster\n",
    "from folium.plugins import MousePosition\n",
    "from folium.features import DivIcon\n",
    "from math import sin, cos, sqrt, atan2, radians\n",
    "\n",
    "import dash\n",
    "import dash_core_components as dcc\n",
    "import dash_html_components as html\n",
    "from dash.dependencies import Input, Output"
   ]
  },
  {
   "cell_type": "code",
   "execution_count": null,
   "metadata": {},
   "outputs": [],
   "source": [
    "app = dash.Dash(__name__)\n"
   ]
  },
  {
   "cell_type": "code",
   "execution_count": null,
   "metadata": {},
   "outputs": [],
   "source": [
    "spacex_csv_file = wget.download('https://cf-courses-data.s3.us.cloud-object-storage.appdomain.cloud/IBM-DS0321EN-SkillsNetwork/datasets/spacex_launch_geo.csv')\n",
    "spacex_df = pd.read_csv(spacex_csv_file) "
   ]
  },
  {
   "cell_type": "code",
   "execution_count": null,
   "metadata": {},
   "outputs": [],
   "source": [
    "spacex_df = spacex_df[[\"Launch Site\", \"Lat\", \"Long\", \"class\"]]\n",
    "launch_sites_df = spacex_df.groupby([\"Launch Site\"], as_index=False).first()\n",
    "launch_sites_df = launch_sites_df[[\"Launch Site\", \"Lat\", \"Long\"]]\n",
    "launch_sites_df"
   ]
  },
  {
   "cell_type": "code",
   "execution_count": null,
   "metadata": {},
   "outputs": [],
   "source": [
    "nasa_coordinate = [29.559684888503615, -95.0830971930759]\n",
    "site_map = folium.Map(location=nasa_coordinate, zoom_start=10)\n"
   ]
  },
  {
   "cell_type": "code",
   "execution_count": null,
   "metadata": {},
   "outputs": [],
   "source": [
    "circle = folium.Circle(nasa_coordinate, radius=2000, color= '#d35400', fill=True).add_child(folium.Popup(\"NASA Johnson Space Center\"))\n",
    "\n",
    "marker = folium.map.Marker(\n",
    "    nasa_coordinate, \n",
    "\n",
    "    icon= DivIcon( \n",
    "        icon_size=(20,20),\n",
    "        icon_anchor=(0,0), \n",
    "        html='<div style=\"font-size: 12; color:#d35400;\"><b>%s</b></div>' % 'NASA JSC',\n",
    "        )\n",
    "\n",
    "    )\n",
    "\n",
    "site_map.add_child(circle)\n",
    "site_map.add_child(marker)\n",
    "\n"
   ]
  },
  {
   "cell_type": "code",
   "execution_count": null,
   "metadata": {},
   "outputs": [],
   "source": [
    "# Reinitialize the map\n",
    "site_map = folium.Map(location=nasa_coordinate, zoom_start=5)\n",
    "\n",
    "# Add a circle and marker for each launch site in the launch_sites_df dataframe\n",
    "for index, row in launch_sites_df.iterrows():\n",
    "    # Extract latitude and longitude\n",
    "    site_coordinate = [row['Lat'], row['Long']]\n",
    "    \n",
    "    # Create a circle object for the launch site\n",
    "    circle = folium.Circle(site_coordinate, radius=1000, color='#000000', fill=True).add_child(folium.Popup(row['Launch Site']))\n",
    "    \n",
    "    # Create a marker object for the launch site\n",
    "    marker = folium.map.Marker(\n",
    "        site_coordinate,\n",
    "        icon=DivIcon(icon_size=(20,20), icon_anchor=(0,0), \n",
    "                     html='<div style=\"font-size: 12; color:#d35400;\"><b>%s</b></div>' % row['Launch Site'])\n",
    "    )\n",
    "    \n",
    "    # Add the circle and marker objects to the map\n",
    "    site_map.add_child(circle)\n",
    "    site_map.add_child(marker)\n",
    "\n",
    "site_map\n"
   ]
  },
  {
   "cell_type": "code",
   "execution_count": null,
   "metadata": {},
   "outputs": [],
   "source": [
    "spacex_df.tail()"
   ]
  },
  {
   "cell_type": "code",
   "execution_count": null,
   "metadata": {},
   "outputs": [],
   "source": [
    "marker_cluster = MarkerCluster()"
   ]
  },
  {
   "cell_type": "code",
   "execution_count": null,
   "metadata": {},
   "outputs": [],
   "source": [
    "spacex_df[\"marker_color\"] = spacex_df[\"class\"].apply(lambda x: \"green\" if x == 1 else \"red\")\n",
    "spacex_df.head() \n",
    "\n",
    "\"\"\"\n",
    "Yukarıdaki Kodun Daha Geniş Hali \n",
    "\n",
    "def assign_marker_color(launch_outcome): \n",
    "    if launch_outcome == 1:\n",
    "        return \"green\"\n",
    "    else: \n",
    "        return \"red\"\n",
    "    \n",
    "spacex_df[\"marker_color\"] = spacex_df[\"class\"].apply(assign_marker_color)\n",
    "spacex_df.tail()\n",
    "\n",
    "\"\"\""
   ]
  },
  {
   "cell_type": "code",
   "execution_count": null,
   "metadata": {},
   "outputs": [],
   "source": [
    "marker_cluster = MarkerCluster()\n",
    "\n",
    "site_map.add_child(marker_cluster)\n",
    "\n",
    "for index, record in spacex_df.iterrows(): \n",
    "    marker = folium.Marker(\n",
    "        location=[record[\"Lat\"], record[\"Long\"]], \n",
    "        icon=folium.Icon(color=\"white\", icon_color=record[\"marker_color\"])\n",
    "    )\n",
    "    marker_cluster.add_child(marker)\n",
    "    \n",
    "site_map"
   ]
  },
  {
   "cell_type": "code",
   "execution_count": null,
   "metadata": {},
   "outputs": [],
   "source": [
    "# Add Mouse Position to get the coordinate (Lat, Long) for a mouse over on the map\n",
    "formatter = \"function(num) {return L.Util.formatNum(num, 5);};\"\n",
    "mouse_position = MousePosition(\n",
    "    position='topright',\n",
    "    separator=' Long: ',\n",
    "    empty_string='NaN',\n",
    "    lng_first=False,\n",
    "    num_digits=20,\n",
    "    prefix='Lat:',\n",
    "    lat_formatter=formatter,\n",
    "    lng_formatter=formatter,\n",
    ")\n",
    "\n",
    "site_map.add_child(mouse_position)\n",
    "site_map"
   ]
  },
  {
   "cell_type": "code",
   "execution_count": null,
   "metadata": {},
   "outputs": [],
   "source": [
    "def calculate(lat1, lon1, lat2, lon2): \n",
    "\n",
    "    R = 6373.0\n",
    "\n",
    "    lat1 = radians(lat1)\n",
    "    lon1 = radians(lon1)\n",
    "    lat2 = radians(lat2)\n",
    "    lon2 = radians(lon2)\n",
    "\n",
    "    dlon = lon2 - lon1\n",
    "    dlat = lat2 - lat1\n",
    "    \n",
    "    a = sin(dlat/2)**2 + cos(lat1) * cos(lat2) * sin(dlon/2)**2\n",
    "    c = 2 * atan2(sqrt(a), sqrt(1-a))\n",
    "\n",
    "    distance = R * c\n",
    "    return distance\n",
    "\n"
   ]
  },
  {
   "cell_type": "code",
   "execution_count": null,
   "metadata": {},
   "outputs": [],
   "source": [
    "# Eğer birden fazla satır varsa, belirli bir satırı seçmek için .iloc metodunu kullanabiliriz.\n",
    "# Örnek olarak, ilk satırı seçelim:\n",
    "launch_sites_lat = spacex_df[\"Lat\"].iloc[0] \n",
    "launch_sites_lon = spacex_df[\"Long\"].iloc[0]\n",
    "\n",
    "# MousePosition ile belirlenen kıyı şeridinin koordinatları\n",
    "coastline_lat = 28.56367\n",
    "coastline_lon = -80.56802\n",
    "\n",
    "# İki nokta arasındaki mesafeyi hesaplama\n",
    "distance_coastline = calculate(launch_sites_lat, launch_sites_lon, coastline_lat, coastline_lon)\n",
    "\n",
    "print(f\"The distance between launch site and coastline is approximately {distance_coastline:.2f} kilometers.\")\n",
    "\n",
    "site_map = folium.Map(location=[launch_sites_lat, launch_sites_lon], zoom_start=14)\n",
    "\n",
    "points = ([launch_sites_lat,launch_sites_lon], [coastline_lat, coastline_lon])\n",
    "line = folium.PolyLine(locations=points, colour=\"blue\", weight=2.5, opacity=1).add_child(folium.Popup(f\"{distance_coastline:.2f} km\"))\n",
    "\n",
    "site_map.add_child(line)\n",
    "site_map\n"
   ]
  }
 ],
 "metadata": {
  "kernelspec": {
   "display_name": "Python 3",
   "language": "python",
   "name": "python3"
  },
  "language_info": {
   "codemirror_mode": {
    "name": "ipython",
    "version": 3
   },
   "file_extension": ".py",
   "mimetype": "text/x-python",
   "name": "python",
   "nbconvert_exporter": "python",
   "pygments_lexer": "ipython3",
   "version": "3.11.5"
  },
  "orig_nbformat": 4,
  "vscode": {
   "interpreter": {
    "hash": "b0fa6594d8f4cbf19f97940f81e996739fb7646882a419484c72d19e05852a7e"
   }
  }
 },
 "nbformat": 4,
 "nbformat_minor": 2
}
